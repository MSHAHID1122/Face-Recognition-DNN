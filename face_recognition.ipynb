{
 "cells": [
  {
   "cell_type": "code",
   "execution_count": 3,
   "id": "1c00f170",
   "metadata": {},
   "outputs": [],
   "source": [
    "import numpy as np \n",
    "import cv2\n",
    "import pandas as pd \n",
    "import os \n",
    "import pickle"
   ]
  },
  {
   "cell_type": "code",
   "execution_count": 4,
   "id": "36d4ffcd",
   "metadata": {},
   "outputs": [],
   "source": [
    "# feature detection\n",
    "img = cv2.imread('./images/Jennifer Lawrence/007_72ad75ba.jpg')\n",
    "cv2.imshow('image',img)\n",
    "cv2.waitKey(0)\n",
    "cv2.destroyAllWindows()"
   ]
  },
  {
   "cell_type": "code",
   "execution_count": null,
   "id": "8ef20e51",
   "metadata": {},
   "outputs": [],
   "source": [
    "net = cv2.dnn.readNetFromCaffe('./models/deploy.prototxt.txt','./models/res10_300x300_ssd_iter_140000_fp16 (2).caffemodel')\n",
    "blog = cv2.dnn.blobFromImage(img,1,(300,300),(104,177,123),swapRB=False,crop=False)\n",
    "descriptor_model = cv2.dnn.readNetFromTorch('./models/openface.nn4.small2.v1.t7')\n",
    "net.setInput(blog)\n",
    "detections = net.forward()\n",
    "h,w = img.shape[:2]\n",
    "if len(detections > 0 ):\n",
    "    i = np.argmax(detections[0,0,:,2])\n",
    "    confidence = detections[0,0,i,2]\n",
    "    if confidence >0.5:\n",
    "        box = detections[0,0,i,3:7]*np.array([w,h,w,h])\n",
    "        startx,starty,endx,endy = box.astype('int')\n",
    "        img1 = img.copy()\n",
    "        cv2.rectangle(img1,(startx,starty),(endx,endy),(0,0,255),2)\n",
    "cv2.imshow('image',img1)\n",
    "cv2.waitKey(0)\n",
    "cv2.destroyAllWindows()        "
   ]
  }
 ],
 "metadata": {
  "kernelspec": {
   "display_name": "venv",
   "language": "python",
   "name": "python3"
  },
  "language_info": {
   "codemirror_mode": {
    "name": "ipython",
    "version": 3
   },
   "file_extension": ".py",
   "mimetype": "text/x-python",
   "name": "python",
   "nbconvert_exporter": "python",
   "pygments_lexer": "ipython3",
   "version": "3.9.13"
  }
 },
 "nbformat": 4,
 "nbformat_minor": 5
}
